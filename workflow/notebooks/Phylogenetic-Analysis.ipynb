{
 "cells": [
  {
   "cell_type": "markdown",
   "metadata": {},
   "source": [
    "## Phylogenetic Analysis\n",
    "\n",
    "The goal of this notebook is to perform phylogenetic inference on the samples from the boat as well as other genomes sampled from around the same time as the boat outbreak. "
   ]
  },
  {
   "cell_type": "code",
   "execution_count": 131,
   "metadata": {},
   "outputs": [],
   "source": [
    "from Bio import SeqIO # Parse fasta files \n",
    "from itertools import combinations # Handle pairwise comparisons\n",
    "from collections import Counter # Count instances in a list\n",
    "from ete3 import Tree # Tree visualization\n"
   ]
  },
  {
   "cell_type": "markdown",
   "metadata": {},
   "source": [
    "To make the consensus sequences, I took each `BAM` file and counted the occurences of each nucleotide at every position. If there were less than 100 reads that covered a given site (with `BQ > 25`) then I coded this site as an `N`. Then, using both replicates, I filled in missing (`N`) nucleotides with the more highly covered positions. \n",
    "\n",
    "This method doesn't take into account insertions and deletions. That could be a bit of a shortcoming, however, I can also include insertions and deletions if necessary. Since I'm mostly focused on SNPs in the intrahost population, I thoguht this was a reasonable oversight."
   ]
  },
  {
   "cell_type": "code",
   "execution_count": 132,
   "metadata": {},
   "outputs": [],
   "source": [
    "# Path to the aligned sequences\n",
    "boat_genomes_path = \"../../results/consensus/aligned_consensus.fa\"\n",
    "# Put the sequence records and ids into a dictionary structure\n",
    "boat_genomes = {record.id : record.seq for record in SeqIO.parse(boat_genomes_path, \"fasta\")}"
   ]
  },
  {
   "cell_type": "markdown",
   "metadata": {},
   "source": [
    "#### Edit Distance\n",
    "\n",
    "Here is the edit distance (hamming distance) between each of the genomes. The most divergent sample is `10136`. We know that this sample probably wasn't infected by the same virus that spread on the boat. It also doesn't seem like any of the cases on the boat came from this person. "
   ]
  },
  {
   "cell_type": "code",
   "execution_count": 133,
   "metadata": {},
   "outputs": [
    {
     "name": "stdout",
     "output_type": "stream",
     "text": [
      "The mean pairwise distance between samples is 2.13.\n",
      "\n",
      "However, this includes a sample (10136) that is highly diverged from the rest with a mean edit distance of 8.83 from any other sample.\n"
     ]
    }
   ],
   "source": [
    "distance = lambda x,y : sum(c1 != c2 for c1, c2 in zip(x, y))\n",
    "\n",
    "edit_distance = {f\"{g1}-{g2}\": distance(boat_genomes[g1], boat_genomes[g2]) for g1, g2 in combinations(boat_genomes.keys(), 2)}\n",
    "outlier_distance = {f\"{g1}-{g2}\": distance(boat_genomes[g1], boat_genomes[g2]) for g1, g2 in combinations(boat_genomes.keys(), 2) if g1 == '10136' or g2 == '10136'}\n",
    "\n",
    "print(f\"The mean pairwise distance between samples is {sum(v for v in edit_distance.values()) / len(edit_distance):.2f}.\\n\")\n",
    "print(f\"However, this includes a sample (10136) that is highly diverged from the rest with a mean edit distance of {sum(v for v in outlier_distance.values()) / len(outlier_distance):.2f} from any other sample.\")\n",
    "\n"
   ]
  },
  {
   "cell_type": "markdown",
   "metadata": {},
   "source": [
    "#### Consensus Differences \n",
    "\n",
    "Here are all the differences between the 24 patients and the reference (Wuhan-1). I collapsed patients with the same consensus sequecnes into a single row. A better way to visualize this might be to add it to a phylogenetic tree of the samples on the boat as an annotation. \n",
    "\n",
    "Some of these sites are different from the reference, but the same in all 24 individuals (boat consensus mutations). I could either include or exclude these from the visualization. I'm not sure what's most prudent. "
   ]
  },
  {
   "cell_type": "code",
   "execution_count": 134,
   "metadata": {},
   "outputs": [
    {
     "name": "stdout",
     "output_type": "stream",
     "text": [
      "Position: 240 538 1058 1254 3036 6045 7563 8289 11082 13251 13422 14407 16911 17124 17155 17351 19523 23402 25562 27310 28375 29166 29298 29552 29867 29869\n",
      "Reference: \t\t\t\tC C C A C T C C G C C C G C C C C A G T G C A G G C\n",
      "10114: \t\t\t\t\tT C T A T T T C T C C T G C C C T G T T T C A G G A\n",
      "10117/10118/10127/10130/10027/10040/10089/10091/10102/10110: \t\t\t\t\tT C T A T T T C T C C T G C C C C G T T T C A G G A\n",
      "10128: \t\t\t\t\tT C T A T T T T T C C T G T C C C G T T T C A G G A\n",
      "10129: \t\t\t\t\tT C T A T T T T T C C T G C C C C G T T T C A G G C\n",
      "10131: \t\t\t\t\tT T T A T T T C T C C T G C C C C G T C T C A G G A\n",
      "10136: \t\t\t\t\tT C T G T C C C G C C T T C T C C G T T G C A A G A\n",
      "10138: \t\t\t\t\tT C T A T T T C T C C T G C C C C G T T T C T G G A\n",
      "10028: \t\t\t\t\tT C T A T T T T T C C T G C C C C G T T T C A G A A\n",
      "10029/10094/10106: \t\t\t\t\tT C T A T T T C T C C T G C C C C G T T T C A G A A\n",
      "10039: \t\t\t\t\tT C T A T T T C T C C T G C C C C G T T T T A G A A\n",
      "10042: \t\t\t\t\tT C T A T T T C T C T T G C C T C G T T T C A G G A\n",
      "10088: \t\t\t\t\tT C T A T T T C T T C T G C C C C G T T T C A G G A\n",
      "10107: \t\t\t\t\tT C T A T T T T T C C T G C C C C G T T T C A G G A\n"
     ]
    }
   ],
   "source": [
    "# Reference Sequence \n",
    "reference = [base for record in SeqIO.parse(\"../../config/ref/SARS2.fa\", \"fasta\") for base in record.seq]\n",
    "\n",
    "# Save a dict of the consensus SNPs for each patient\n",
    "consesus = {}\n",
    "\n",
    "# Populate the dict\n",
    "for patient, genome in boat_genomes.items():\n",
    "    differences = []\n",
    "    for i, bases in enumerate(zip(genome.upper(), reference)):\n",
    "        if len(set(bases)) > 1: \n",
    "            differences.append((i, bases))\n",
    "    consesus[patient] = differences\n",
    "\n",
    "# Get a set of all unique SNPs \n",
    "consensus_differences = set(snp for snp_list in consesus.values() for snp in snp_list)\n",
    "\n",
    "# Fill in the missing SNPs in the dict\n",
    "for patient, snps in consesus.items(): \n",
    "    for snp in consensus_differences: \n",
    "        if snp not in snps:\n",
    "            consesus[patient].append((snp[0], (snp[1][1], snp[1][1])))\n",
    "\n",
    "\n",
    "# Condense the identical sequences\n",
    "unique_consensus = {}\n",
    "\n",
    "for patient, snps in consesus.items(): \n",
    "    con = ' '.join([snp[1][0] for snp in sorted(snps, key = (lambda s: s[0]))])\n",
    "    if con in unique_consensus.keys():\n",
    "        unique_consensus[con].append(patient)\n",
    "    else: \n",
    "        unique_consensus[con] = [patient]\n",
    "\n",
    "# Print the differences for each patient \n",
    "print(f\"Position: {' '.join([str(snp[0]) for snp in sorted(consensus_differences, key = (lambda s: s[0]))])}\")\n",
    "print(f\"Reference: \\t\\t\\t\\t{' '.join([snp[1][1] for snp in sorted(consensus_differences, key = (lambda s: s[0]))])}\")\n",
    "\n",
    "for snps, patients in unique_consensus.items(): \n",
    "    print(f\"{'/'.join(patients)}: \\t\\t\\t\\t\\t{snps}\")\n"
   ]
  },
  {
   "cell_type": "markdown",
   "metadata": {},
   "source": [
    "#### Boat Consensus \n",
    "\n",
    "These are the mutations that are different from the reference, but shared between all 24 people we've analyzed on the boat. "
   ]
  },
  {
   "cell_type": "code",
   "execution_count": 163,
   "metadata": {},
   "outputs": [
    {
     "name": "stdout",
     "output_type": "stream",
     "text": [
      "Mutations found in every patient including 10136:\n",
      "\t['T240C', 'T1058C', 'T3036C', 'T14407C', 'G23402A', 'T25562G']\n",
      "\n",
      "Mutations found in every patient EXCLUDING 10136:\n",
      "\t['T240C', 'T1058C', 'T3036C', 'T7563C', 'T11082G', 'T14407C', 'G23402A', 'T25562G', 'T28375G', 'C17155C', 'G16911G', 'G29552G', 'A1254A', 'T6045T']\n",
      "\n"
     ]
    }
   ],
   "source": [
    "# Consensus in all samples including divergent 10136\n",
    "all_boat_consensus = []\n",
    "for k,v in Counter(snp for snps in consesus.values() for snp in snps).items():\n",
    "    if v == 24:\n",
    "        all_boat_consensus.append(k)\n",
    "    \n",
    "# Consensus in all samples EXCLUDING divergent 10136\n",
    "true_boat_consensus = []\n",
    "for k,v in Counter(snp for patient, snps in consesus.items() if patient != \"10136\" for snp in snps).items():\n",
    "    if v == 23:\n",
    "        true_boat_consensus.append(k)\n",
    "\n",
    "print(f\"Mutations found in every patient including 10136:\\n\\t{[''.join([alleles[0], str(pos), alleles[1]]) for pos, alleles in all_boat_consensus]}\\n\")\n",
    "print(f\"Mutations found in every patient EXCLUDING 10136:\\n\\t{[''.join([alleles[0], str(pos), alleles[1]]) for pos, alleles in true_boat_consensus]}\\n\")\n",
    "\n"
   ]
  },
  {
   "cell_type": "markdown",
   "metadata": {},
   "source": [
    "#### Phylogenetic Tree\n",
    "\n",
    "Here I make a tree from the consensus samples deep-sequenced from the boat. The tree was made using IQtree's automatic model using the commad `iqtree -s {input}`. "
   ]
  },
  {
   "cell_type": "code",
   "execution_count": 177,
   "metadata": {},
   "outputs": [],
   "source": [
    "t = Tree(\"../../results/consensus/aligned_consensus.fa.treefile\")\n",
    "\n",
    "t.show()"
   ]
  },
  {
   "cell_type": "code",
   "execution_count": null,
   "metadata": {},
   "outputs": [],
   "source": []
  }
 ],
 "metadata": {
  "kernelspec": {
   "display_name": "Python 3",
   "language": "python",
   "name": "python3"
  },
  "language_info": {
   "codemirror_mode": {
    "name": "ipython",
    "version": 3
   },
   "file_extension": ".py",
   "mimetype": "text/x-python",
   "name": "python",
   "nbconvert_exporter": "python",
   "pygments_lexer": "ipython3",
   "version": "3.7.6"
  }
 },
 "nbformat": 4,
 "nbformat_minor": 4
}
