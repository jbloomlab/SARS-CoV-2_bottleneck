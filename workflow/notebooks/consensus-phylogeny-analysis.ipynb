{
 "cells": [
  {
   "cell_type": "code",
   "execution_count": 117,
   "metadata": {},
   "outputs": [],
   "source": [
    "import pysam # count variant alleles from BAM\n",
    "import pandas as pd # data frames\n",
    "import numpy as np # arrays\n",
    "import os # interacting with files\n",
    "from Bio import SeqIO # reading fasta format\n",
    "import re # regular expressions\n",
    "import seaborn as sns\n",
    "from skbio.stats.distance import DissimilarityMatrix # plot the cluster heatmap\n",
    "from collections import Counter"
   ]
  },
  {
   "cell_type": "code",
   "execution_count": 111,
   "metadata": {},
   "outputs": [],
   "source": [
    "def get_bam_paths(dirpath, pattern = \".sorted.marked.merged.bam\"):\n",
    "    \"\"\"\n",
    "    Function to get the BAM paths in a list.\n",
    "    \"\"\"\n",
    "    return [os.path.join(root,file) for root, dirs, files in os.walk(dirpath) for file in files if file.endswith(pattern)]\n",
    "\n",
    "\n",
    "def get_ref_sequence(refpath):\n",
    "    \"\"\"\n",
    "    Function to read in the reference sequence as a list.\n",
    "    \"\"\"\n",
    "    return [base.upper() for base in list(SeqIO.parse(refpath, \"fasta\"))[0].seq]\n",
    "\n",
    "\n",
    "def get_sample_info(filepath):\n",
    "    \"\"\"\n",
    "    Get the sample and the replicate from the path.\n",
    "    \"\"\"\n",
    "    metadata = re.split(\"\\\\.|_\", os.path.basename(filepath))\n",
    "    return (metadata[0], metadata[1])\n",
    "\n",
    "\n",
    "def check_read(read):\n",
    "    \"\"\"\n",
    "    Helper function to decide what reads should\n",
    "    be keep when parsing alignment file with `pysam`. \n",
    "    \"\"\"\n",
    "    # Exclude Quality Failures\n",
    "    if read.is_qcfail:\n",
    "        return False\n",
    "    # Exclude Secondary Mappings\n",
    "    if read.is_secondary:\n",
    "        return False\n",
    "    # Exclude Unmapped Reads\n",
    "    if read.is_unmapped:\n",
    "        return False\n",
    "    else:\n",
    "        return True\n",
    "\n",
    "    \n",
    "def build_consensus_seq(\n",
    "                bampath, \n",
    "                callback_function = check_read, \n",
    "                contig = \"NC_045512.2\", \n",
    "                refpath = \"../../config/ref/SARS2.fa\", \n",
    "                minimum_QUAL = 25, \n",
    "                minimum_COV = 100):\n",
    "    \"\"\"\n",
    "    Read in BAM file and convert to a consensus fasta the length of the\n",
    "    reference genome using the `pysam` command `count_coverage`. \n",
    "    \"\"\"\n",
    "     # String to hold the final consensus seq\n",
    "    consensus = \"\"\n",
    "    # Open alignment with pysam\n",
    "    with pysam.AlignmentFile(bampath, \"rb\") as bamfile:\n",
    "        # Get a dataframe of the counts\n",
    "        count_df = pd.DataFrame.from_dict({base:counts for base, counts in zip(\"ACGT\", bamfile.count_coverage(contig = contig, read_callback=callback_function, quality_threshold=minimum_QUAL))})\n",
    "        # Add the depth at each position\n",
    "        count_df['DP'] = count_df.sum(axis = 1)\n",
    "        # Add the position \n",
    "        count_df['POS'] = count_df.index + 1\n",
    "        # Add the reference allele\n",
    "        count_df['REF'] = get_ref_sequence(refpath)\n",
    "        # Convert counts to frequency \n",
    "        count_df.iloc[:,0:4] = count_df.iloc[:,0:4].div(count_df.DP, axis = 0)\n",
    "        # Handle any NaNs created by dividing by 0 coverage\n",
    "        count_df = count_df.fillna(0)\n",
    "        # Iterate over each row and determine the conesnus sequence and build consensus string\n",
    "        for index, row in count_df.iterrows(): \n",
    "            if row.DP < minimum_COV:\n",
    "                consensus += \"N\"\n",
    "            else: \n",
    "                consensus += max([(row[\"A\"], \"A\"), (row[\"C\"], \"C\"), (row[\"G\"], \"G\"), (row[\"T\"], \"T\")],key=lambda x:x[0])[1]\n",
    "            \n",
    "        return consensus\n",
    "    \n",
    "\n",
    "def merge_consensus_seq(consensus_1, consensus_2, sample):\n",
    "    \"\"\"\n",
    "    Combine the consensus sequences between the two replicates using higher coverage\n",
    "    reigons of each replicate to fill in gaps. \n",
    "    \"\"\"\n",
    "    collated_consensus = \"\"\n",
    "    discrepencies = []\n",
    "    for pos, bases in enumerate(zip(consensus_1, consensus_2)): \n",
    "        # Mask the last 40 bases or so of the genome (repetative poly-A track)\n",
    "        if pos+1 >= 29860:\n",
    "            collated_consensus += 'N'\n",
    "            continue\n",
    "        if bases[0] == bases[1]:\n",
    "            collated_consensus += bases[0]\n",
    "        else: \n",
    "            if 'N' in bases: \n",
    "                if set(bases) == {'N'}:\n",
    "                    collated_consensus += 'N'\n",
    "                else: \n",
    "                    if bases[0] == 'N':\n",
    "                        collated_consensus += bases[1]\n",
    "                    else: \n",
    "                        collated_consensus += bases[0]\n",
    "            else:\n",
    "                print(f\"Warning! There is a discrepency in highly covered bases at position {pos+1} for sample {sample}: {bases}\")\n",
    "                collated_consensus += 'N'\n",
    "    return collated_consensus\n",
    "    \n",
    "    \n",
    "def normalize_Ns(consensus_dict):\n",
    "    \"\"\"\n",
    "    Normalize the masked regions of the genome by identfying \n",
    "    where coverage was too low in all samples. Normalizing which \n",
    "    regions should be considered Ns.\n",
    "    \"\"\"\n",
    "    mask = set()\n",
    "    for consensus in consensus_dict.values():\n",
    "        for pos,base in enumerate(consensus):\n",
    "            if base == \"N\":\n",
    "                mask.add(pos)\n",
    "    print(f\"There are {len(mask)} bases being masked by N's because of low coverage.\")\n",
    "    return {sample:\"\".join('N' if pos in mask else base for pos, base in enumerate(consensus)) for sample, consensus in consensus_dict.items()}\n",
    "        \n",
    "\n",
    "def hamming_distance(chaine1, chaine2):\n",
    "    \"\"\"\n",
    "    Calculate the edit distance between masked consensus genomes.\n",
    "    \"\"\"\n",
    "    return sum(c1 != c2 for c1, c2 in zip(chaine1, chaine2))\n",
    "    "
   ]
  },
  {
   "cell_type": "code",
   "execution_count": 91,
   "metadata": {},
   "outputs": [],
   "source": [
    "# Iterate over the samples and make a rough consensus sequence. \n",
    "consensus_dict = {get_sample_info(bampath):build_consensus_seq(bampath) for bampath in get_bam_paths(\"../../results/aligned/BWA/\")}\n"
   ]
  },
  {
   "cell_type": "code",
   "execution_count": 105,
   "metadata": {},
   "outputs": [
    {
     "name": "stdout",
     "output_type": "stream",
     "text": [
      "There are 204 bases being masked by N's because of low coverage.\n"
     ]
    }
   ],
   "source": [
    "kgtc\n",
    "        "
   ]
  },
  {
   "cell_type": "code",
   "execution_count": 115,
   "metadata": {},
   "outputs": [],
   "source": [
    "distances = list()\n",
    "for m, i in normalized_consensus_dict.items():\n",
    "    for n, j in normalized_consensus_dict.items():\n",
    "        distances.append((f\"{m}\", f\"{n}\",hamming_distance(i,j)))      "
   ]
  },
  {
   "cell_type": "code",
   "execution_count": 118,
   "metadata": {},
   "outputs": [
    {
     "data": {
      "image/png": "[encoded data removed]",
      "text/plain": [
       "<Figure size 432x288 with 2 Axes>"
      ]
     },
     "metadata": {
      "needs_background": "light"
     },
     "output_type": "display_data"
    }
   ],
   "source": [
    "edit_distance_df = pd.DataFrame(distances, columns = [\"Sample_1\", \"Sample_2\", \"Edit_Distance\"]).pivot(\"Sample_1\", \"Sample_2\", \"Edit_Distance\")\n",
    "\n",
    "ax = sns.heatmap(edit_distance_df, annot=True, fmt=\"d\")"
   ]
  },
  {
   "cell_type": "code",
   "execution_count": 126,
   "metadata": {},
   "outputs": [
    {
     "data": {
      "text/plain": [
       "11"
      ]
     },
     "execution_count": 126,
     "metadata": {},
     "output_type": "execute_result"
    }
   ],
   "source": [
    "ref = get_ref_sequence(\"../../config/ref/SARS2.fa\")\n",
    "\n",
    "for pos, base in enumerate(normalized_consensus_dict['10131']):\n",
    "    if base == 'N': \n",
    "        ref[pos] = 'N'\n",
    "\n",
    "hamming_distance(normalized_consensus_dict['10131'],''.join(ref))"
   ]
  },
  {
   "cell_type": "code",
   "execution_count": null,
   "metadata": {},
   "outputs": [],
   "source": []
  }
 ],
 "metadata": {
  "kernelspec": {
   "display_name": "Python 3",
   "language": "python",
   "name": "python3"
  },
  "language_info": {
   "codemirror_mode": {
    "name": "ipython",
    "version": 3
   },
   "file_extension": ".py",
   "mimetype": "text/x-python",
   "name": "python",
   "nbconvert_exporter": "python",
   "pygments_lexer": "ipython3",
   "version": "3.7.6"
  }
 },
 "nbformat": 4,
 "nbformat_minor": 4
}
