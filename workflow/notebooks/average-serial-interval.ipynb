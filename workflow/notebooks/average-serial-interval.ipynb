{
 "cells": [
  {
   "cell_type": "markdown",
   "id": "f57baf54",
   "metadata": {},
   "source": [
    "# Average Serial Interval\n",
    "\n",
    "The goal of this notebook is to address another good point from **Reviewer 2**. The reviewer asks 'how many transmission events are thought to separate the cases that qualified for deep sequencing?' This is important for many aspects of our paper, so I'll attempt to address this by comparing the number of fixed mutations that separate sequences from one another compared to the expected distribution over multiple serial intervals. \n",
    "\n",
    "To address this, I'll use [Loiuse Moncla and Allie Black's implementation](https://github.com/lmoncla/ncov-WI-within-host/blob/master/scripts/calculate-probability-household-is-transmission-pair.ipynb) of a simple poisson model of the number mutations expected to accumulate over a single serial interval of infection. \n",
    "\n",
    "*A serial interval is the time between the onset of illness in the primary case and the onset of illness in the secondary case.*\n",
    "\n",
    "The goal of this analysis is to determine how many serial intervals of infection separate the average case on the boat that qualified for deep-sequencing from the root of those sequences. This should help answer address whether many successive infections on the boat made it look like the bottleneck is more narrow than it was. "
   ]
  },
  {
   "cell_type": "code",
   "execution_count": 1,
   "id": "9c81700d",
   "metadata": {},
   "outputs": [],
   "source": [
    "from itertools import combinations, product\n",
    "from collections import Counter\n",
    "\n",
    "import numpy as np\n",
    "import pandas as pd\n",
    "\n",
    "from plotnine import *\n",
    "\n",
    "from scipy.stats import poisson\n",
    "\n",
    "from ete3 import Tree\n",
    "from Bio import SeqIO"
   ]
  },
  {
   "cell_type": "markdown",
   "id": "365ab7c0",
   "metadata": {},
   "source": [
    "## Fixed Mutations on the Boat\n",
    "\n",
    "Here, I'll determine which mutations have fixed on the boat relative to the inferred root node. I'll do this including the subset of three that includes the samples that qualified for deep-sequencing. "
   ]
  },
  {
   "cell_type": "code",
   "execution_count": 2,
   "id": "93ae6f5a",
   "metadata": {},
   "outputs": [],
   "source": [
    "# Files for the alignment, tree, and states for all boat sequences\n",
    "alignment_file = \"../../results/phylogeny/all-boat-sequences.aligned.fa\"\n",
    "tree_file = \"../../results/phylogeny/all-boat-sequences.aligned.fa.treefile\"\n",
    "state_file = \"../../results/phylogeny/all-boat-sequences.aligned.fa.state\""
   ]
  },
  {
   "cell_type": "code",
   "execution_count": 3,
   "id": "84ef471b",
   "metadata": {},
   "outputs": [
    {
     "name": "stdout",
     "output_type": "stream",
     "text": [
      "Finding the mutations relative to the ancestral sequenece at node == Node2, excluding samples: ['10136', '10115', 'NC_045512.2']\n"
     ]
    }
   ],
   "source": [
    "# Samples to exclude from the ancestral consensus (only works if they're outgroups of the clade.)\n",
    "samples_to_exclude = ['10136', '10115', 'NC_045512.2']\n",
    "\n",
    "# Import the tree including the global phylogeny with every boat sequence\n",
    "tree = Tree(tree_file, format = 1)\n",
    "\n",
    "# Get the node names for ancestral reconstruction\n",
    "nodes_for_ancr = [n.name for n in tree.get_leaves() if n.name not in samples_to_exclude]\n",
    "\n",
    "# Get the name of node to get difference relative to (a.k.a ancestral node for seqs of interest)\n",
    "mrca = tree.get_common_ancestor(nodes_for_ancr).name.split(\"/\")[0]\n",
    "\n",
    "print(f\"Finding the mutations relative to the ancestral sequenece at node == {mrca}, excluding samples: {samples_to_exclude}\")\n"
   ]
  },
  {
   "cell_type": "code",
   "execution_count": 4,
   "id": "6a1dd242",
   "metadata": {},
   "outputs": [],
   "source": [
    "# Site offset relative to the start of the sequence\n",
    "site_offset = 265\n",
    "\n",
    "# Get the genome sequences for each tip\n",
    "tip_to_seq = {record.id: list(str(record.seq).upper()) for record in SeqIO.parse(alignment_file, 'fasta')}\n",
    "tip_states = (\n",
    "    pd.DataFrame.from_dict(tip_to_seq, orient='index')\n",
    "    .rename_axis('Node')\n",
    "    .reset_index()\n",
    "    .melt(id_vars='Node',\n",
    "          var_name='Site',\n",
    "          value_name='State',\n",
    "          )\n",
    "    .assign(Site=lambda x: x['Site'] + 1)\n",
    "    )\n",
    "\n",
    "# Import the internal states from IQtree `-asr` .state file\n",
    "internal_states = (\n",
    "    pd.read_csv(state_file,\n",
    "                sep='\\t',\n",
    "                comment='#',\n",
    "                usecols=['Node', 'Site', 'State'])\n",
    "    )\n",
    "\n",
    "# Combine and format the internal and tip states\n",
    "states = (\n",
    "    internal_states\n",
    "    .append(tip_states)\n",
    "    .assign(Site = lambda x: x['Site'] + site_offset, # to get the actual position\n",
    "            n_states_at_site = lambda x: x.groupby('Site')['State'].transform('nunique'),\n",
    "            )\n",
    "    .query('n_states_at_site > 1')\n",
    "    .drop(columns='n_states_at_site')\n",
    "    )\n",
    "\n",
    "states_dict = states.set_index(['Node', 'Site'])['State'].to_dict()\n",
    "\n",
    "nodes = states['Node'].unique().tolist()\n",
    "\n",
    "sites = sorted(states['Site'].unique())\n",
    "\n",
    "# Find all pairwise differeces between the nodes/tips\n",
    "subs_matrix = {}  # keyed by (parent, descendant)\n",
    "for n1, n2 in product(nodes, nodes):\n",
    "    subs = []\n",
    "    for site in sites:\n",
    "        nt1 = states_dict[(n1, site)]\n",
    "        nt2 = states_dict[(n2, site)]\n",
    "        if nt1 != nt2:\n",
    "            if nt1 in {'A', 'C', 'G', 'T'} and nt2 in {'A', 'C', 'G', 'T'}:\n",
    "                subs.append(f\"{nt1}{site}{nt2}\")\n",
    "    subs_matrix[(n1, n2)] = subs"
   ]
  },
  {
   "cell_type": "markdown",
   "id": "507c60d7",
   "metadata": {},
   "source": [
    "On average, how many differences separate the qualified sequences from the inferred MRCA? "
   ]
  },
  {
   "cell_type": "code",
   "execution_count": 5,
   "id": "e414a6e4",
   "metadata": {},
   "outputs": [
    {
     "name": "stdout",
     "output_type": "stream",
     "text": [
      "There are 0 mutations separating the root from 10101.\n",
      "There are 0 mutations separating the root from 10126.\n",
      "There are 0 mutations separating the root from 10133.\n",
      "There are 2 mutations separating the root from 10042.\n",
      "There are 0 mutations separating the root from 10105.\n",
      "There are 0 mutations separating the root from 10108.\n",
      "There are 0 mutations separating the root from 10130.\n",
      "There is 1 mutations separating the root from 10107.\n",
      "There are 0 mutations separating the root from 10031.\n",
      "There are 0 mutations separating the root from 10110.\n",
      "There are 0 mutations separating the root from 10030.\n",
      "There are 0 mutations separating the root from 10124.\n",
      "There are 0 mutations separating the root from 10029.\n",
      "There are 0 mutations separating the root from 10102.\n",
      "There are 0 mutations separating the root from 10038.\n",
      "There are 0 mutations separating the root from 10094.\n",
      "There are 2 mutations separating the root from 10128.\n",
      "There are 2 mutations separating the root from 10131.\n",
      "There are 0 mutations separating the root from 10027.\n",
      "There are 0 mutations separating the root from 10118.\n",
      "There is 1 mutations separating the root from 10034.\n",
      "There are 0 mutations separating the root from 10117.\n",
      "There are 0 mutations separating the root from 10106.\n",
      "There is 1 mutations separating the root from 10129.\n",
      "There are 0 mutations separating the root from 10091.\n",
      "There are 0 mutations separating the root from 10093.\n",
      "There is 1 mutations separating the root from 10113.\n",
      "There is 1 mutations separating the root from 10039.\n",
      "There are 0 mutations separating the root from 10127.\n",
      "There is 1 mutations separating the root from 10114.\n",
      "There are 0 mutations separating the root from 10116.\n",
      "There are 0 mutations separating the root from 10040.\n",
      "There is 1 mutations separating the root from 10028.\n",
      "There are 0 mutations separating the root from 10090.\n",
      "There is 1 mutations separating the root from 10138.\n",
      "There is 1 mutations separating the root from 10088.\n",
      "There are 0 mutations separating the root from 10036.\n",
      "There are 0 mutations separating the root from 10089.\n"
     ]
    }
   ],
   "source": [
    "differences_from_root = list()\n",
    "for k,v in subs_matrix.items():\n",
    "    if k[0] == mrca and k[1] in nodes_for_ancr:\n",
    "        print(f\"There {'are' if len(v) !=1 else 'is'} {len(v)} mutations separating the root from {k[1]}.\")\n",
    "        differences_from_root.append(len(v))\n",
    "        \n",
    "differences_from_root_dist = Counter(differences_from_root)"
   ]
  },
  {
   "cell_type": "markdown",
   "id": "a243343e",
   "metadata": {},
   "source": [
    "## Implementing the Poisson Model\n",
    "\n",
    "For now, I'm using the same parameters used by [Loiuse Moncla and Allie Black](https://github.com/lmoncla/ncov-WI-within-host/blob/master/scripts/calculate-probability-household-is-transmission-pair.ipynb) in their model. I can test multiple parameters, or update these based on the current SARS-CoV-2 literature. \n",
    "\n",
    "I'll make a poisson distribution with a rate of mutation accumulation set around the average number of mutations expected to accumulate in a single serial interval (of [~5 days](https://www.nature.com/articles/s41591-020-0869-5)). The boat was only out to sea for 16 days. If the average serial interval is in the range of ~5 days, **there should have only been a maximum of ~3 serial intervals between the first and last infected indiviudals**. So, I'll look at the distribution of mutations expected to accumulate in 1, 2, and 3 serial intervals and compare that to the number of mutations actually observed."
   ]
  },
  {
   "cell_type": "code",
   "execution_count": 6,
   "id": "e19867c0",
   "metadata": {},
   "outputs": [
    {
     "name": "stdout",
     "output_type": "stream",
     "text": [
      "The average number of mutations expected to accumulate in a serial interval is: 0.5223\n"
     ]
    }
   ],
   "source": [
    "## == Pameters for Distribution == ##\n",
    "\n",
    "# Length of SARS-CoV-2 Reference\n",
    "genome_length = 29903\n",
    "\n",
    "# Average number of substitutions per site per year (interval is 7.03 × 10−4 and 1.5 × 10−3) from Duchene et al.\n",
    "subs_per_site_per_year = 0.0011 \n",
    "subs_per_genome_per_year = subs_per_site_per_year * genome_length \n",
    "subs_per_genome_per_day = subs_per_genome_per_year/365.25\n",
    "\n",
    "# Average length of the serial interval for SARS-CoV-2 in days (95% CI is  4.8 to 6.8 days) from He et al.\n",
    "serial_interval = 5.8 \n",
    "\n",
    "# Average number of mutations in a serial interval: \n",
    "subs_per_genome_per_serial_interval = subs_per_genome_per_day * serial_interval\n",
    "\n",
    "print(f\"The average number of mutations expected to accumulate in a serial interval is: {subs_per_genome_per_serial_interval:.4f}\")\n"
   ]
  },
  {
   "cell_type": "code",
   "execution_count": 7,
   "id": "ba297c4b",
   "metadata": {},
   "outputs": [],
   "source": [
    "# Convert the observed mutations into a dictionary of frequency\n",
    "observed_mutations = {k: v/sum(v for v in differences_from_root_dist.values()) \n",
    "        for k,v in differences_from_root_dist.items()}\n",
    "\n",
    "# Observed fixed mutations in the boat\n",
    "observed_df = pd.DataFrame(data={'Mutations': [mut for mut in observed_mutations.keys()],\n",
    "                              'Frequency': [freq for freq in observed_mutations.values()],\n",
    "                              'Interval': \"observed mutations\"\n",
    "                  })"
   ]
  },
  {
   "cell_type": "code",
   "execution_count": 8,
   "id": "f73f082f",
   "metadata": {},
   "outputs": [],
   "source": [
    "theoretical_mutations = dict()\n",
    "for interval in (np.arange(1, 4, 1) * serial_interval):\n",
    "    # Poisson for each # of serial intervals\n",
    "    rv = poisson(subs_per_genome_per_day * interval)\n",
    "    # Get the probability mass function from 0 to 4 mutations\n",
    "    theoretical_mutations[int(interval/serial_interval)] = rv.pmf(np.arange(0, 5, 1))\n",
    "    \n",
    "theoretical_list = list()\n",
    "for k,v in theoretical_mutations.items():\n",
    "    df = pd.DataFrame(data={'Mutations': np.arange(0, 5, 1),\n",
    "                            'Frequency': v,\n",
    "                            'Interval': f\"{k} serial intervals\"})\n",
    "    theoretical_list.append(df)\n",
    "\n",
    "theoretical_df =  pd.concat(theoretical_list)"
   ]
  },
  {
   "cell_type": "code",
   "execution_count": 9,
   "id": "be9206c3",
   "metadata": {},
   "outputs": [
    {
     "data": {
      "image/png": "[encoded data removed]",
      "text/plain": [
       "<Figure size 640x480 with 1 Axes>"
      ]
     },
     "metadata": {},
     "output_type": "display_data"
    },
    {
     "data": {
      "text/plain": [
       "<ggplot: (8744703736141)>"
      ]
     },
     "execution_count": 9,
     "metadata": {},
     "output_type": "execute_result"
    }
   ],
   "source": [
    "poisson_plot = (\n",
    "ggplot(pd.concat([observed_df, theoretical_df]), aes(x=\"Mutations\", y=\"Frequency\", fill=\"Interval\"))\n",
    "    + geom_bar(stat=\"identity\", position=\"dodge\")\n",
    "    + ylab(\"P($x$ mutations) in serial interval\")\n",
    "    + xlab(\"Number of Substitutions\")\n",
    "    + scale_fill_manual(values = (\"#1727AE\", \"#6987D5\", \"#BBDFFA\", \"#B80A0A\"))\n",
    "    + theme_bw(15)\n",
    ")\n",
    "\n",
    "poisson_plot"
   ]
  },
  {
   "cell_type": "code",
   "execution_count": 10,
   "id": "d362685c",
   "metadata": {},
   "outputs": [
    {
     "name": "stderr",
     "output_type": "stream",
     "text": [
      "/home/whannon/miniconda3/lib/python3.7/site-packages/plotnine/ggplot.py:729: PlotnineWarning: Saving 7 x 5 in image.\n",
      "/home/whannon/miniconda3/lib/python3.7/site-packages/plotnine/ggplot.py:730: PlotnineWarning: Filename: ../../results/figures/poisson-serial-interval.svg\n"
     ]
    }
   ],
   "source": [
    "poisson_plot.save(filename = '../../results/figures/poisson-serial-interval.svg', height=5, width=7, units = 'in', dpi=300)"
   ]
  }
 ],
 "metadata": {
  "kernelspec": {
   "display_name": "Python 3 (ipykernel)",
   "language": "python",
   "name": "python3"
  },
  "language_info": {
   "codemirror_mode": {
    "name": "ipython",
    "version": 3
   },
   "file_extension": ".py",
   "mimetype": "text/x-python",
   "name": "python",
   "nbconvert_exporter": "python",
   "pygments_lexer": "ipython3",
   "version": "3.7.6"
  }
 },
 "nbformat": 4,
 "nbformat_minor": 5
}
